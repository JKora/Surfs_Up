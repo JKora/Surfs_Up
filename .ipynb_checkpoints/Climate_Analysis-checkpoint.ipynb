{
 "cells": [
  {
   "cell_type": "markdown",
   "metadata": {},
   "source": [
    "# Climate Analysis"
   ]
  },
  {
   "cell_type": "code",
   "execution_count": 20,
   "metadata": {
    "collapsed": true
   },
   "outputs": [],
   "source": [
    "# Python SQL toolkit and Object Relational Mapper\n",
    "import sqlalchemy\n",
    "from sqlalchemy.ext.automap import automap_base\n",
    "from sqlalchemy.orm import Session\n",
    "from sqlalchemy import create_engine, inspect\n",
    "from sqlalchemy.sql.expression import func"
   ]
  },
  {
   "cell_type": "code",
   "execution_count": 2,
   "metadata": {
    "collapsed": true
   },
   "outputs": [],
   "source": [
    "# Create SQLite database file\n",
    "engine = create_engine(\"sqlite:///hawaii3.sqlite\")"
   ]
  },
  {
   "cell_type": "code",
   "execution_count": 3,
   "metadata": {
    "collapsed": true
   },
   "outputs": [],
   "source": [
    "# Declare a Base using `automap_base()`\n",
    "Base = automap_base()"
   ]
  },
  {
   "cell_type": "code",
   "execution_count": 4,
   "metadata": {
    "collapsed": true
   },
   "outputs": [],
   "source": [
    "# Use the Base class to reflect the database tables\n",
    "Base.prepare(engine, reflect=True)"
   ]
  },
  {
   "cell_type": "code",
   "execution_count": 5,
   "metadata": {},
   "outputs": [
    {
     "data": {
      "text/plain": [
       "['hawaii_measurement', 'stations']"
      ]
     },
     "execution_count": 5,
     "metadata": {},
     "output_type": "execute_result"
    }
   ],
   "source": [
    "# Print all of the classes mapped to the Base\n",
    "Base.classes.keys()"
   ]
  },
  {
   "cell_type": "code",
   "execution_count": 6,
   "metadata": {
    "collapsed": true
   },
   "outputs": [],
   "source": [
    "# Create the inspector and connect it to the engine\n",
    "inspector = inspect(engine)"
   ]
  },
  {
   "cell_type": "code",
   "execution_count": 7,
   "metadata": {},
   "outputs": [
    {
     "data": {
      "text/plain": [
       "['hawaii_measurement', 'stations']"
      ]
     },
     "execution_count": 7,
     "metadata": {},
     "output_type": "execute_result"
    }
   ],
   "source": [
    "# Collect the names of tables within the database\n",
    "inspector.get_table_names()"
   ]
  },
  {
   "cell_type": "code",
   "execution_count": 8,
   "metadata": {},
   "outputs": [
    {
     "data": {
      "text/plain": [
       "[{'autoincrement': 'auto',\n",
       "  'default': None,\n",
       "  'name': 'measurement_id',\n",
       "  'nullable': False,\n",
       "  'primary_key': 1,\n",
       "  'type': INTEGER()},\n",
       " {'autoincrement': 'auto',\n",
       "  'default': None,\n",
       "  'name': 'station',\n",
       "  'nullable': True,\n",
       "  'primary_key': 0,\n",
       "  'type': VARCHAR(length=255)},\n",
       " {'autoincrement': 'auto',\n",
       "  'default': None,\n",
       "  'name': 'date',\n",
       "  'nullable': True,\n",
       "  'primary_key': 0,\n",
       "  'type': VARCHAR(length=255)},\n",
       " {'autoincrement': 'auto',\n",
       "  'default': None,\n",
       "  'name': 'prcp',\n",
       "  'nullable': True,\n",
       "  'primary_key': 0,\n",
       "  'type': FLOAT()},\n",
       " {'autoincrement': 'auto',\n",
       "  'default': None,\n",
       "  'name': 'tobs',\n",
       "  'nullable': True,\n",
       "  'primary_key': 0,\n",
       "  'type': INTEGER()}]"
      ]
     },
     "execution_count": 8,
     "metadata": {},
     "output_type": "execute_result"
    }
   ],
   "source": [
    "inspector.get_columns(\"hawaii_measurement\")"
   ]
  },
  {
   "cell_type": "code",
   "execution_count": 9,
   "metadata": {
    "collapsed": true
   },
   "outputs": [],
   "source": [
    "Measurement = Base.classes.hawaii_measurement"
   ]
  },
  {
   "cell_type": "code",
   "execution_count": 10,
   "metadata": {
    "collapsed": true
   },
   "outputs": [],
   "source": [
    "# Create a session\n",
    "session = Session(engine)"
   ]
  },
  {
   "cell_type": "markdown",
   "metadata": {
    "collapsed": true
   },
   "source": [
    "## Precipitation Analysis"
   ]
  },
  {
   "cell_type": "code",
   "execution_count": 11,
   "metadata": {
    "collapsed": true
   },
   "outputs": [],
   "source": [
    "# Query to retrieve the last 12 months of precipitation data.\n",
    "prcp_data = session.query(Measurement.date, Measurement.prcp).filter(Measurement.date > '2017-04-15').order_by(Measurement.date.desc()).all()"
   ]
  },
  {
   "cell_type": "code",
   "execution_count": null,
   "metadata": {
    "collapsed": true
   },
   "outputs": [],
   "source": []
  },
  {
   "cell_type": "code",
   "execution_count": 12,
   "metadata": {
    "collapsed": true
   },
   "outputs": [],
   "source": [
    "# send queried data into Pandas Data Frame\n",
    "import pandas as pd\n",
    "prcp_data_df = pd.DataFrame(prcp_data)"
   ]
  },
  {
   "cell_type": "code",
   "execution_count": 13,
   "metadata": {},
   "outputs": [
    {
     "data": {
      "text/html": [
       "<div>\n",
       "<style>\n",
       "    .dataframe thead tr:only-child th {\n",
       "        text-align: right;\n",
       "    }\n",
       "\n",
       "    .dataframe thead th {\n",
       "        text-align: left;\n",
       "    }\n",
       "\n",
       "    .dataframe tbody tr th {\n",
       "        vertical-align: top;\n",
       "    }\n",
       "</style>\n",
       "<table border=\"1\" class=\"dataframe\">\n",
       "  <thead>\n",
       "    <tr style=\"text-align: right;\">\n",
       "      <th></th>\n",
       "      <th>prcp</th>\n",
       "    </tr>\n",
       "    <tr>\n",
       "      <th>date</th>\n",
       "      <th></th>\n",
       "    </tr>\n",
       "  </thead>\n",
       "  <tbody>\n",
       "    <tr>\n",
       "      <th>2017-08-23</th>\n",
       "      <td>0.00</td>\n",
       "    </tr>\n",
       "    <tr>\n",
       "      <th>2017-08-23</th>\n",
       "      <td>0.00</td>\n",
       "    </tr>\n",
       "    <tr>\n",
       "      <th>2017-08-23</th>\n",
       "      <td>0.08</td>\n",
       "    </tr>\n",
       "    <tr>\n",
       "      <th>2017-08-23</th>\n",
       "      <td>0.45</td>\n",
       "    </tr>\n",
       "    <tr>\n",
       "      <th>2017-08-22</th>\n",
       "      <td>0.00</td>\n",
       "    </tr>\n",
       "  </tbody>\n",
       "</table>\n",
       "</div>"
      ],
      "text/plain": [
       "            prcp\n",
       "date            \n",
       "2017-08-23  0.00\n",
       "2017-08-23  0.00\n",
       "2017-08-23  0.08\n",
       "2017-08-23  0.45\n",
       "2017-08-22  0.00"
      ]
     },
     "execution_count": 13,
     "metadata": {},
     "output_type": "execute_result"
    }
   ],
   "source": [
    "# set 'date' as index for the data frame.\n",
    "prcp_data_df = prcp_data_df.set_index('date')\n",
    "prcp_data_df.head(5)"
   ]
  },
  {
   "cell_type": "code",
   "execution_count": 14,
   "metadata": {
    "collapsed": true
   },
   "outputs": [],
   "source": [
    "# import dependencies to plot data\n",
    "import matplotlib.pyplot as plt\n",
    "import seaborn as sns"
   ]
  },
  {
   "cell_type": "markdown",
   "metadata": {},
   "source": [
    "### Dataframe Plot"
   ]
  },
  {
   "cell_type": "code",
   "execution_count": 15,
   "metadata": {},
   "outputs": [
    {
     "data": {
      "image/png": "[encoded data removed]",
      "text/plain": [
       "<matplotlib.figure.Figure at 0x114035208>"
      ]
     },
     "metadata": {},
     "output_type": "display_data"
    }
   ],
   "source": [
    "sns.set()\n",
    "prcp_data_df.plot(use_index=True, figsize = (12,8), grid=True, title = 'Precipitation Plot', kind = 'line',linewidth = 5)\n",
    "plt.xlabel('Date')\n",
    "plt.show()"
   ]
  },
  {
   "cell_type": "markdown",
   "metadata": {},
   "source": [
    "### Precipitation Summary Statistics"
   ]
  },
  {
   "cell_type": "code",
   "execution_count": 16,
   "metadata": {},
   "outputs": [
    {
     "data": {
      "text/html": [
       "<div>\n",
       "<style>\n",
       "    .dataframe thead tr:only-child th {\n",
       "        text-align: right;\n",
       "    }\n",
       "\n",
       "    .dataframe thead th {\n",
       "        text-align: left;\n",
       "    }\n",
       "\n",
       "    .dataframe tbody tr th {\n",
       "        vertical-align: top;\n",
       "    }\n",
       "</style>\n",
       "<table border=\"1\" class=\"dataframe\">\n",
       "  <thead>\n",
       "    <tr style=\"text-align: right;\">\n",
       "      <th></th>\n",
       "      <th>prcp</th>\n",
       "    </tr>\n",
       "  </thead>\n",
       "  <tbody>\n",
       "    <tr>\n",
       "      <th>count</th>\n",
       "      <td>679.000000</td>\n",
       "    </tr>\n",
       "    <tr>\n",
       "      <th>mean</th>\n",
       "      <td>0.171635</td>\n",
       "    </tr>\n",
       "    <tr>\n",
       "      <th>std</th>\n",
       "      <td>0.432061</td>\n",
       "    </tr>\n",
       "    <tr>\n",
       "      <th>min</th>\n",
       "      <td>0.000000</td>\n",
       "    </tr>\n",
       "    <tr>\n",
       "      <th>25%</th>\n",
       "      <td>0.000000</td>\n",
       "    </tr>\n",
       "    <tr>\n",
       "      <th>50%</th>\n",
       "      <td>0.020000</td>\n",
       "    </tr>\n",
       "    <tr>\n",
       "      <th>75%</th>\n",
       "      <td>0.140000</td>\n",
       "    </tr>\n",
       "    <tr>\n",
       "      <th>max</th>\n",
       "      <td>6.250000</td>\n",
       "    </tr>\n",
       "  </tbody>\n",
       "</table>\n",
       "</div>"
      ],
      "text/plain": [
       "             prcp\n",
       "count  679.000000\n",
       "mean     0.171635\n",
       "std      0.432061\n",
       "min      0.000000\n",
       "25%      0.000000\n",
       "50%      0.020000\n",
       "75%      0.140000\n",
       "max      6.250000"
      ]
     },
     "execution_count": 16,
     "metadata": {},
     "output_type": "execute_result"
    }
   ],
   "source": [
    "prcp_data_df.describe()"
   ]
  },
  {
   "cell_type": "markdown",
   "metadata": {},
   "source": [
    "## Station Analysis"
   ]
  },
  {
   "cell_type": "code",
   "execution_count": 17,
   "metadata": {},
   "outputs": [
    {
     "data": {
      "text/plain": [
       "9"
      ]
     },
     "execution_count": 17,
     "metadata": {},
     "output_type": "execute_result"
    }
   ],
   "source": [
    "# Query to calculate the total number of stations\n",
    "stations = session.query(Measurement).group_by(Measurement.station).count()\n",
    "stations"
   ]
  },
  {
   "cell_type": "code",
   "execution_count": 18,
   "metadata": {},
   "outputs": [
    {
     "data": {
      "text/plain": [
       "18103"
      ]
     },
     "execution_count": 18,
     "metadata": {},
     "output_type": "execute_result"
    }
   ],
   "source": [
    "data_count = session.query(Measurement).count()\n",
    "data_count"
   ]
  },
  {
   "cell_type": "code",
   "execution_count": 32,
   "metadata": {
    "collapsed": true
   },
   "outputs": [],
   "source": [
    "# Query to find the most active stations\n",
    "station_Obs = session.query(Measurement.station, func.count(Measurement.tobs)).group_by(Measurement.station).order_by(func.count(Measurement.tobs).desc()).all()"
   ]
  },
  {
   "cell_type": "code",
   "execution_count": 33,
   "metadata": {},
   "outputs": [
    {
     "data": {
      "text/plain": [
       "[('USC00519281', 2772),\n",
       " ('USC00513117', 2696),\n",
       " ('USC00519397', 2685),\n",
       " ('USC00519523', 2572),\n",
       " ('USC00516128', 2484),\n",
       " ('USC00514830', 1937),\n",
       " ('USC00511918', 1932),\n",
       " ('USC00517948', 683),\n",
       " ('USC00518838', 342)]"
      ]
     },
     "execution_count": 33,
     "metadata": {},
     "output_type": "execute_result"
    }
   ],
   "source": [
    "station_Obs"
   ]
  },
  {
   "cell_type": "markdown",
   "metadata": {},
   "source": [
    "#### Which station has the highest number of observations? "
   ]
  },
  {
   "cell_type": "code",
   "execution_count": 41,
   "metadata": {},
   "outputs": [
    {
     "data": {
      "text/plain": [
       "'USC00519281'"
      ]
     },
     "execution_count": 41,
     "metadata": {},
     "output_type": "execute_result"
    }
   ],
   "source": [
    "# query to get the station name of the highest number of observations.\n",
    "# returns the first row of the data returned by the query.\n",
    "station_Obs_1 = session.query(Measurement.station).group_by(Measurement.station).order_by(func.count(Measurement.tobs).desc()).first()\n",
    "station_Obs_1[0]"
   ]
  },
  {
   "cell_type": "code",
   "execution_count": 42,
   "metadata": {
    "collapsed": true
   },
   "outputs": [],
   "source": [
    "# query to retrieve the last 12 months of temperature observation data (tobs)\n",
    "# Filter by the station with the highest number of observations\n",
    "temp_12m = session.query(Measurement.date, Measurement.tobs).filter((Measurement.date > '2017-04-15')& \n",
    "                                                                    (Measurement.station == station_Obs_1[0])).all()"
   ]
  },
  {
   "cell_type": "code",
   "execution_count": 43,
   "metadata": {},
   "outputs": [
    {
     "data": {
      "text/plain": [
       "116"
      ]
     },
     "execution_count": 43,
     "metadata": {},
     "output_type": "execute_result"
    }
   ],
   "source": [
    "# number of records returned \n",
    "len(temp_12m)"
   ]
  },
  {
   "cell_type": "code",
   "execution_count": 44,
   "metadata": {},
   "outputs": [
    {
     "name": "stdout",
     "output_type": "stream",
     "text": [
      "60 83\n"
     ]
    }
   ],
   "source": [
    "# Data Frame the 12 month temp data\n",
    "temp_12m_df = pd.DataFrame(temp_12m)\n",
    "temp_12m_df=temp_12m_df.set_index('date')\n",
    "max_temp = temp_12m_df['tobs'].max()\n",
    "min_temp = temp_12m_df['tobs'].min()\n",
    "print(min_temp, max_temp)\n"
   ]
  },
  {
   "cell_type": "code",
   "execution_count": 45,
   "metadata": {
    "collapsed": true
   },
   "outputs": [],
   "source": [
    "import numpy as np"
   ]
  },
  {
   "cell_type": "code",
   "execution_count": 46,
   "metadata": {},
   "outputs": [
    {
     "data": {
      "text/plain": [
       "<matplotlib.axes._subplots.AxesSubplot at 0x1140e55f8>"
      ]
     },
     "execution_count": 46,
     "metadata": {},
     "output_type": "execute_result"
    }
   ],
   "source": [
    "temp_12m_df.plot.hist(by = temp_12m_df.tobs, bins = 12, figsize = (8,8))"
   ]
  },
  {
   "cell_type": "code",
   "execution_count": 47,
   "metadata": {},
   "outputs": [
    {
     "data": {
      "image/png": "[encoded data removed]",
      "text/plain": [
       "<matplotlib.figure.Figure at 0x116e617f0>"
      ]
     },
     "metadata": {},
     "output_type": "display_data"
    }
   ],
   "source": [
    "plt.xticks(np.arange(60,90, 5))\n",
    "plt.show()"
   ]
  },
  {
   "cell_type": "markdown",
   "metadata": {},
   "source": [
    "## Temperature Analysis"
   ]
  },
  {
   "cell_type": "markdown",
   "metadata": {},
   "source": [
    "#### Write a function called calc_temps that will accept a start date and end date in the format %Y-%m-%d and return the minimum, average, and maximum temperatures for that range of dates."
   ]
  },
  {
   "cell_type": "code",
   "execution_count": 48,
   "metadata": {
    "collapsed": true
   },
   "outputs": [],
   "source": [
    "import numpy as np"
   ]
  },
  {
   "cell_type": "code",
   "execution_count": 49,
   "metadata": {
    "collapsed": true
   },
   "outputs": [],
   "source": [
    "# function to calculate temp stats for the trip dates in the previous year\n",
    "def calc_temps(trip_st_dt, trip_end_dt):\n",
    "    # reduce the year by '1' to query the previous year during the same month and year\n",
    "    qry_strt_dt = (str(int(trip_st_dt[:4])-1) + trip_st_dt[4:]) \n",
    "    qry_end_dt = (str(int(trip_end_dt[:4])-1) + trip_end_dt[4:])\n",
    "    \n",
    "    temp_stats = session.query(func.min(Measurement.tobs),\n",
    "                             func.max(Measurement.tobs), \n",
    "                             func.avg(Measurement.tobs)).filter((Measurement.date > qry_strt_dt) & \n",
    "                                                                (Measurement.date < qry_end_dt)).all()\n",
    "    return temp_stats"
   ]
  },
  {
   "cell_type": "code",
   "execution_count": 50,
   "metadata": {},
   "outputs": [
    {
     "name": "stdout",
     "output_type": "stream",
     "text": [
      "Enter Start Date (yyyy-mm-dd) : 2018-05-01\n",
      "Enter End Date (yyyy-mm-dd) : 2018-05-15\n"
     ]
    }
   ],
   "source": [
    "start_date = input('Enter Start Date (yyyy-mm-dd) : ')\n",
    "end_date = input('Enter End Date (yyyy-mm-dd) : ')\n",
    "temp_stats = calc_temps(start_date, end_date)"
   ]
  },
  {
   "cell_type": "code",
   "execution_count": 51,
   "metadata": {},
   "outputs": [
    {
     "data": {
      "text/plain": [
       "(66, 80, 75.47142857142858)"
      ]
     },
     "execution_count": 51,
     "metadata": {},
     "output_type": "execute_result"
    }
   ],
   "source": [
    "temp_stat = temp_stats[0]\n",
    "temp_stat"
   ]
  },
  {
   "cell_type": "code",
   "execution_count": 52,
   "metadata": {},
   "outputs": [
    {
     "data": {
      "text/plain": [
       "Text(0.5,1,'Trip Avg Temp')"
      ]
     },
     "execution_count": 52,
     "metadata": {},
     "output_type": "execute_result"
    }
   ],
   "source": [
    "plt.figure(figsize=(1,3))\n",
    "plt.bar(1,height=temp_stat[2],yerr = (temp_stat[1]-temp_stat[0]))\n",
    "plt.xticks([])\n",
    "plt.ylabel('Temp (F)')\n",
    "plt.title('Trip Avg Temp')"
   ]
  },
  {
   "cell_type": "code",
   "execution_count": 53,
   "metadata": {},
   "outputs": [
    {
     "data": {
      "image/png": "[encoded data removed]",
      "text/plain": [
       "<matplotlib.figure.Figure at 0x117790160>"
      ]
     },
     "metadata": {},
     "output_type": "display_data"
    }
   ],
   "source": [
    "plt.show()"
   ]
  },
  {
   "cell_type": "markdown",
   "metadata": {
    "collapsed": true
   },
   "source": [
    "### Optional Query 1 : Calculate the rainfall per weather station using the previous year's matching dates."
   ]
  },
  {
   "cell_type": "code",
   "execution_count": 54,
   "metadata": {
    "collapsed": true
   },
   "outputs": [],
   "source": [
    "# function to calculate rainfall per weather station using previous year's matching dates\n",
    "def calc_rainfall(trip_st_dt, trip_end_dt):\n",
    "    # reduce the year by '1' to query the previous year during the same month and year\n",
    "    qry_strt_dt = (str(int(trip_st_dt[:4])-1) + trip_st_dt[4:]) \n",
    "    qry_end_dt = (str(int(trip_end_dt[:4])-1) + trip_end_dt[4:])\n",
    "    \n",
    "    rainfall_perStation = session.query(Measurement.station,func.sum(Measurement.prcp)).filter((Measurement.date > qry_strt_dt) & \n",
    "                                                                (Measurement.date < qry_end_dt)).group_by(Measurement.station).all()\n",
    "    return rainfall_perStation"
   ]
  },
  {
   "cell_type": "code",
   "execution_count": 57,
   "metadata": {},
   "outputs": [
    {
     "name": "stdout",
     "output_type": "stream",
     "text": [
      "Enter Start Date (yyyy-mm-dd) : 2018-05-01\n",
      "Enter End Date (yyyy-mm-dd) : 2018-05-15\n"
     ]
    }
   ],
   "source": [
    "start_date = input('Enter Start Date (yyyy-mm-dd) : ')\n",
    "end_date = input('Enter End Date (yyyy-mm-dd) : ')\n",
    "rainfall_stats = calc_rainfall(start_date, end_date)"
   ]
  },
  {
   "cell_type": "code",
   "execution_count": 58,
   "metadata": {},
   "outputs": [
    {
     "data": {
      "text/plain": [
       "[('USC00513117', 2.1399999999999997),\n",
       " ('USC00514830', 1.91),\n",
       " ('USC00516128', 3.6600000000000006),\n",
       " ('USC00519281', 2.9800000000000004),\n",
       " ('USC00519397', 0.01),\n",
       " ('USC00519523', 0.74)]"
      ]
     },
     "execution_count": 58,
     "metadata": {},
     "output_type": "execute_result"
    }
   ],
   "source": [
    "rainfall_stats"
   ]
  },
  {
   "cell_type": "markdown",
   "metadata": {},
   "source": [
    "### Optional Query 2 : Calculate the daily normals. Normals are the averages for min, avg, and max temperatures."
   ]
  },
  {
   "cell_type": "code",
   "execution_count": 59,
   "metadata": {
    "collapsed": true
   },
   "outputs": [],
   "source": [
    "#Create a function called daily_normals that will calculate the daily normals for a specific date. \n",
    "#This date string will be in the format %m-%d. Be sure to use all historic tobs that match that date string.\n",
    "\n",
    "def daily_normals(analyse_dt):\n",
    "    \n",
    "    daily_norm_data = session.query(func.min(Measurement.tobs), func.max(Measurement.tobs), func.avg(Measurement.tobs)).filter(func.strftime(\"%m-%d\", Measurement.date) == analyse_dt).all()\n",
    "    return daily_norm_data[0]"
   ]
  },
  {
   "cell_type": "code",
   "execution_count": 60,
   "metadata": {},
   "outputs": [
    {
     "name": "stdout",
     "output_type": "stream",
     "text": [
      "Enter a date to analyse (%m - %d) : 05-01\n"
     ]
    }
   ],
   "source": [
    "#check the function daily_normals\n",
    "\n",
    "# enter a date to find the normals\n",
    "analyse_dt = input(\"Enter a date to analyse (%m - %d) : \")\n",
    "norm_data = daily_normals(analyse_dt)"
   ]
  },
  {
   "cell_type": "code",
   "execution_count": 61,
   "metadata": {},
   "outputs": [
    {
     "data": {
      "text/plain": [
       "(65, 79, 72.75925925925925)"
      ]
     },
     "execution_count": 61,
     "metadata": {},
     "output_type": "execute_result"
    }
   ],
   "source": [
    "# display the daily normals\n",
    "norm_data"
   ]
  },
  {
   "cell_type": "code",
   "execution_count": 62,
   "metadata": {
    "collapsed": true
   },
   "outputs": [],
   "source": [
    "from datetime import datetime\n",
    "from datetime import timedelta"
   ]
  },
  {
   "cell_type": "code",
   "execution_count": 63,
   "metadata": {},
   "outputs": [
    {
     "name": "stdout",
     "output_type": "stream",
     "text": [
      "Enter Start Date (mm-dd) : 05-01\n",
      "Enter End Date (mm-dd) : 05-15\n"
     ]
    }
   ],
   "source": [
    "#Create a list of dates for your trip in the format %m-%d\n",
    "\n",
    "# enter the trip start and end dates\n",
    "start_date = input('Enter Start Date (mm-dd) : ')\n",
    "end_date = input('Enter End Date (mm-dd) : ')\n",
    "\n",
    "# list of dates for the trip\n",
    "trip_dts = []\n",
    "# condition for while loop to create the trip dates list (trip_dts[])\n",
    "isLess = True\n",
    "# variables for while loop\n",
    "end_month = datetime.strptime(end_date, '%m-%d').month\n",
    "end_day = datetime.strptime(end_date, '%m-%d').day\n",
    "new_date = start_date\n",
    "\n",
    "# loop to create trip_dts list\n",
    "while isLess == True :\n",
    "    trip_dts.append(new_date)\n",
    "    next_date = datetime.strptime(new_date, '%m-%d')+timedelta(days=1)\n",
    "    new_date = datetime.strftime(next_date, '%m-%d')\n",
    "    new_month = datetime.strptime(new_date, '%m-%d').month\n",
    "    new_day = datetime.strptime(new_date, '%m-%d').day\n",
    "    if ((new_month <= end_month) & (new_day <= end_day)):\n",
    "            isLess = True \n",
    "    else :\n",
    "        isLess = False\n"
   ]
  },
  {
   "cell_type": "code",
   "execution_count": 64,
   "metadata": {
    "collapsed": true
   },
   "outputs": [],
   "source": [
    "#Use the daily_normals function to calculate the normals for each date string and append the results to a list.\n",
    "norm_data = []\n",
    "for date in trip_dts :\n",
    "    norm_data.append(daily_normals(date))\n",
    "\n",
    "daily_norm_dict = {}\n",
    "for i in range(len(trip_dts)):\n",
    "    daily_norm_dict.update({trip_dts[i] :norm_data[i]})\n"
   ]
  },
  {
   "cell_type": "code",
   "execution_count": 65,
   "metadata": {},
   "outputs": [
    {
     "data": {
      "text/plain": [
       "{'05-01': (65, 79, 72.75925925925925),\n",
       " '05-02': (65, 79, 73.09433962264151),\n",
       " '05-03': (67, 84, 73.28846153846153),\n",
       " '05-04': (65, 78, 73.47169811320755),\n",
       " '05-05': (67, 79, 73.2),\n",
       " '05-06': (66, 80, 73.05454545454545),\n",
       " '05-07': (64, 79, 71.9),\n",
       " '05-08': (65, 80, 72.16326530612245),\n",
       " '05-09': (67, 79, 72.87755102040816),\n",
       " '05-10': (64, 78, 73.31481481481481),\n",
       " '05-11': (65, 79, 73.66),\n",
       " '05-12': (65, 79, 73.14),\n",
       " '05-13': (67, 79, 73.05660377358491),\n",
       " '05-14': (63, 80, 73.83333333333333),\n",
       " '05-15': (63, 79, 73.46153846153847)}"
      ]
     },
     "execution_count": 65,
     "metadata": {},
     "output_type": "execute_result"
    }
   ],
   "source": [
    "daily_norm_dict"
   ]
  },
  {
   "cell_type": "code",
   "execution_count": 66,
   "metadata": {
    "collapsed": true
   },
   "outputs": [],
   "source": [
    "# convert the dictionary into Data Frame\n",
    "daily_norm_df = pd.DataFrame(daily_norm_dict)"
   ]
  },
  {
   "cell_type": "code",
   "execution_count": 67,
   "metadata": {
    "collapsed": true
   },
   "outputs": [],
   "source": [
    "# transpose the data frame so the dates become rows and temp stats become columns\n",
    "daily_norm_df = daily_norm_df.transpose()"
   ]
  },
  {
   "cell_type": "code",
   "execution_count": 68,
   "metadata": {
    "collapsed": true
   },
   "outputs": [],
   "source": [
    "# rename the columns \n",
    "daily_norm_df.columns = ['tmin', 'tmax', 'tavg']\n",
    "# name the index column to date\n",
    "daily_norm_df.index.name = 'date'"
   ]
  },
  {
   "cell_type": "code",
   "execution_count": 69,
   "metadata": {},
   "outputs": [
    {
     "data": {
      "text/html": [
       "<div>\n",
       "<style>\n",
       "    .dataframe thead tr:only-child th {\n",
       "        text-align: right;\n",
       "    }\n",
       "\n",
       "    .dataframe thead th {\n",
       "        text-align: left;\n",
       "    }\n",
       "\n",
       "    .dataframe tbody tr th {\n",
       "        vertical-align: top;\n",
       "    }\n",
       "</style>\n",
       "<table border=\"1\" class=\"dataframe\">\n",
       "  <thead>\n",
       "    <tr style=\"text-align: right;\">\n",
       "      <th></th>\n",
       "      <th>tmin</th>\n",
       "      <th>tmax</th>\n",
       "      <th>tavg</th>\n",
       "    </tr>\n",
       "    <tr>\n",
       "      <th>date</th>\n",
       "      <th></th>\n",
       "      <th></th>\n",
       "      <th></th>\n",
       "    </tr>\n",
       "  </thead>\n",
       "  <tbody>\n",
       "    <tr>\n",
       "      <th>05-01</th>\n",
       "      <td>65.0</td>\n",
       "      <td>79.0</td>\n",
       "      <td>72.759259</td>\n",
       "    </tr>\n",
       "    <tr>\n",
       "      <th>05-02</th>\n",
       "      <td>65.0</td>\n",
       "      <td>79.0</td>\n",
       "      <td>73.094340</td>\n",
       "    </tr>\n",
       "    <tr>\n",
       "      <th>05-03</th>\n",
       "      <td>67.0</td>\n",
       "      <td>84.0</td>\n",
       "      <td>73.288462</td>\n",
       "    </tr>\n",
       "    <tr>\n",
       "      <th>05-04</th>\n",
       "      <td>65.0</td>\n",
       "      <td>78.0</td>\n",
       "      <td>73.471698</td>\n",
       "    </tr>\n",
       "    <tr>\n",
       "      <th>05-05</th>\n",
       "      <td>67.0</td>\n",
       "      <td>79.0</td>\n",
       "      <td>73.200000</td>\n",
       "    </tr>\n",
       "    <tr>\n",
       "      <th>05-06</th>\n",
       "      <td>66.0</td>\n",
       "      <td>80.0</td>\n",
       "      <td>73.054545</td>\n",
       "    </tr>\n",
       "    <tr>\n",
       "      <th>05-07</th>\n",
       "      <td>64.0</td>\n",
       "      <td>79.0</td>\n",
       "      <td>71.900000</td>\n",
       "    </tr>\n",
       "    <tr>\n",
       "      <th>05-08</th>\n",
       "      <td>65.0</td>\n",
       "      <td>80.0</td>\n",
       "      <td>72.163265</td>\n",
       "    </tr>\n",
       "    <tr>\n",
       "      <th>05-09</th>\n",
       "      <td>67.0</td>\n",
       "      <td>79.0</td>\n",
       "      <td>72.877551</td>\n",
       "    </tr>\n",
       "    <tr>\n",
       "      <th>05-10</th>\n",
       "      <td>64.0</td>\n",
       "      <td>78.0</td>\n",
       "      <td>73.314815</td>\n",
       "    </tr>\n",
       "    <tr>\n",
       "      <th>05-11</th>\n",
       "      <td>65.0</td>\n",
       "      <td>79.0</td>\n",
       "      <td>73.660000</td>\n",
       "    </tr>\n",
       "    <tr>\n",
       "      <th>05-12</th>\n",
       "      <td>65.0</td>\n",
       "      <td>79.0</td>\n",
       "      <td>73.140000</td>\n",
       "    </tr>\n",
       "    <tr>\n",
       "      <th>05-13</th>\n",
       "      <td>67.0</td>\n",
       "      <td>79.0</td>\n",
       "      <td>73.056604</td>\n",
       "    </tr>\n",
       "    <tr>\n",
       "      <th>05-14</th>\n",
       "      <td>63.0</td>\n",
       "      <td>80.0</td>\n",
       "      <td>73.833333</td>\n",
       "    </tr>\n",
       "    <tr>\n",
       "      <th>05-15</th>\n",
       "      <td>63.0</td>\n",
       "      <td>79.0</td>\n",
       "      <td>73.461538</td>\n",
       "    </tr>\n",
       "  </tbody>\n",
       "</table>\n",
       "</div>"
      ],
      "text/plain": [
       "       tmin  tmax       tavg\n",
       "date                        \n",
       "05-01  65.0  79.0  72.759259\n",
       "05-02  65.0  79.0  73.094340\n",
       "05-03  67.0  84.0  73.288462\n",
       "05-04  65.0  78.0  73.471698\n",
       "05-05  67.0  79.0  73.200000\n",
       "05-06  66.0  80.0  73.054545\n",
       "05-07  64.0  79.0  71.900000\n",
       "05-08  65.0  80.0  72.163265\n",
       "05-09  67.0  79.0  72.877551\n",
       "05-10  64.0  78.0  73.314815\n",
       "05-11  65.0  79.0  73.660000\n",
       "05-12  65.0  79.0  73.140000\n",
       "05-13  67.0  79.0  73.056604\n",
       "05-14  63.0  80.0  73.833333\n",
       "05-15  63.0  79.0  73.461538"
      ]
     },
     "execution_count": 69,
     "metadata": {},
     "output_type": "execute_result"
    }
   ],
   "source": [
    "daily_norm_df"
   ]
  },
  {
   "cell_type": "markdown",
   "metadata": {},
   "source": [
    "#### Use Pandas to plot an area plot (stacked=False) for the daily normals."
   ]
  },
  {
   "cell_type": "code",
   "execution_count": 70,
   "metadata": {},
   "outputs": [
    {
     "data": {
      "text/plain": [
       "<matplotlib.axes._subplots.AxesSubplot at 0x1a1cc1e160>"
      ]
     },
     "execution_count": 70,
     "metadata": {},
     "output_type": "execute_result"
    }
   ],
   "source": [
    "sns.set_palette(\"pastel\")\n",
    "colors = ['lightblue', 'lightcoral', 'lightbrown']\n",
    "daily_norm_df.plot(kind = 'area',stacked=False, figsize = (8,5), rot = '45', alpha = 0.2, linewidth = 4)"
   ]
  },
  {
   "cell_type": "code",
   "execution_count": 71,
   "metadata": {},
   "outputs": [
    {
     "data": {
      "image/png": "[encoded data removed]",
      "text/plain": [
       "<matplotlib.figure.Figure at 0x11779de10>"
      ]
     },
     "metadata": {},
     "output_type": "display_data"
    }
   ],
   "source": [
    "plt.show()"
   ]
  },
  {
   "cell_type": "code",
   "execution_count": null,
   "metadata": {
    "collapsed": true
   },
   "outputs": [],
   "source": []
  },
  {
   "cell_type": "code",
   "execution_count": null,
   "metadata": {
    "collapsed": true
   },
   "outputs": [],
   "source": []
  }
 ],
 "metadata": {
  "kernelspec": {
   "display_name": "Python [conda env:PythonData]",
   "language": "python",
   "name": "conda-env-PythonData-py"
  },
  "language_info": {
   "codemirror_mode": {
    "name": "ipython",
    "version": 3
   },
   "file_extension": ".py",
   "mimetype": "text/x-python",
   "name": "python",
   "nbconvert_exporter": "python",
   "pygments_lexer": "ipython3",
   "version": "3.6.3"
  }
 },
 "nbformat": 4,
 "nbformat_minor": 2
}
